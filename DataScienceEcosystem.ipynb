{
 "cells": [
  {
   "cell_type": "markdown",
   "id": "f6fbd55b-5cfe-4359-bf11-b14705572e24",
   "metadata": {},
   "source": [
    "## Hello, Welcome to my Jupyter Project"
   ]
  },
  {
   "cell_type": "code",
   "execution_count": null,
   "id": "0c548c94-c95f-4c9a-81a2-9a75753fc49f",
   "metadata": {},
   "outputs": [],
   "source": [
    "In this notebook, Data Science Tools and Ecosystem are summarized.\n"
   ]
  },
  {
   "cell_type": "code",
   "execution_count": null,
   "id": "66dc4fdf-8e2c-4f4a-b4ae-7d3dcef51a88",
   "metadata": {},
   "outputs": [],
   "source": [
    "Some of the popular languages that Data Scientists use are:\n",
    "1. Python\n",
    "2. SQL\n",
    "3. R"
   ]
  },
  {
   "cell_type": "code",
   "execution_count": null,
   "id": "4be64abf-32c5-45ff-a2f0-b8b20649dee3",
   "metadata": {},
   "outputs": [],
   "source": [
    "**Objectives:**\n",
    "- Python\n",
    "- SQL\n",
    "- R"
   ]
  },
  {
   "cell_type": "code",
   "execution_count": null,
   "id": "d3b5d318-0edd-4061-aec2-fd502a1dc9dc",
   "metadata": {},
   "outputs": [],
   "source": [
    "Some of the commonly used libraries used by Data Scientists include:\n",
    "1. numpy\n",
    "2. pandas\n",
    "3. matplotlib\n",
    "4. caret\n",
    "5. ggplot"
   ]
  },
  {
   "cell_type": "code",
   "execution_count": null,
   "id": "5771573f-2997-4164-adfb-8250ec76ff61",
   "metadata": {},
   "outputs": [],
   "source": [
    "| Data Science Tools |\n",
    "| :- |\n",
    "| Jupyter Notebook |\n",
    "| VS Code |\n",
    "| Rstudio |"
   ]
  },
  {
   "cell_type": "code",
   "execution_count": null,
   "id": "352c240d-4c8e-41a6-a8c0-50ea20567111",
   "metadata": {},
   "outputs": [],
   "source": [
    "### Below are a few examples of evaluating arithmetic expressions in Python."
   ]
  },
  {
   "cell_type": "code",
   "execution_count": null,
   "id": "a193676d-5015-4c0d-ad63-7d68d37df4c8",
   "metadata": {},
   "outputs": [],
   "source": [
    "(3*4)+5\n",
    "#  This a simple arithmetic expression to mutiply then add integers"
   ]
  },
  {
   "cell_type": "code",
   "execution_count": 19,
   "id": "534766a1-2eca-46a6-b2c8-a36ce4ddc2b5",
   "metadata": {},
   "outputs": [
    {
     "data": {
      "text/plain": [
       "3.3333333333333335"
      ]
     },
     "execution_count": 19,
     "metadata": {},
     "output_type": "execute_result"
    }
   ],
   "source": [
    "200/60\n",
    "# This will convert 200 minutes to hours by diving by 60"
   ]
  },
  {
   "cell_type": "markdown",
   "id": "360f8bd4-3ece-4968-a709-a6fc8b000e16",
   "metadata": {},
   "source": [
    "## Author\n",
    "Aayush"
   ]
  }
 ],
 "metadata": {
  "kernelspec": {
   "display_name": "Python 3 (ipykernel)",
   "language": "python",
   "name": "python3"
  },
  "language_info": {
   "codemirror_mode": {
    "name": "ipython",
    "version": 3
   },
   "file_extension": ".py",
   "mimetype": "text/x-python",
   "name": "python",
   "nbconvert_exporter": "python",
   "pygments_lexer": "ipython3",
   "version": "3.11.7"
  }
 },
 "nbformat": 4,
 "nbformat_minor": 5
}
